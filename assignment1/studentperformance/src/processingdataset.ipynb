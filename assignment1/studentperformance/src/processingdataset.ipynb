{
  "nbformat": 4,
  "nbformat_minor": 0,
  "metadata": {
    "colab": {
      "provenance": []
    },
    "kernelspec": {
      "name": "python3",
      "display_name": "Python 3"
    },
    "language_info": {
      "name": "python"
    }
  },
  "cells": [
    {
      "cell_type": "code",
      "execution_count": 4,
      "metadata": {
        "colab": {
          "base_uri": "https://localhost:8080/"
        },
        "id": "_Jvefl_jpasR",
        "outputId": "51ac1a75-2c2d-4f50-af79-20a5b3692403"
      },
      "outputs": [
        {
          "output_type": "stream",
          "name": "stdout",
          "text": [
            "Columns with no null values: ['gender', 'race/ethnicity', 'parental level of education', 'lunch', 'test preparation course', 'math score', 'reading score', 'writing score']\n",
            "Processed data saved as: processed_studentsperformance_data.csv\n"
          ]
        }
      ],
      "source": [
        "import pandas as pd\n",
        "\n",
        "# Load the dataset\n",
        "file_path = 'StudentsPerformance.csv'\n",
        "df = pd.read_csv(file_path)\n",
        "\n",
        "# Step 1: Check for null values and fill them with mean for numeric columns\n",
        "numeric_cols = df.select_dtypes(include=['float64', 'int64']).columns\n",
        "df[numeric_cols] = df[numeric_cols].fillna(df[numeric_cols].mean())\n",
        "\n",
        "# Step 2: Check for duplicate values and remove them\n",
        "df.drop_duplicates(inplace=True)\n",
        "\n",
        "# Step 3: Print columns that have no null values\n",
        "non_null_columns = df.columns[df.notna().all()].tolist()\n",
        "print(\"Columns with no null values:\", non_null_columns)\n",
        "\n",
        "# Step 4: Save the processed DataFrame to CSV\n",
        "processed_file_path = 'processed_studentsperformance_data.csv'\n",
        "df.to_csv(processed_file_path, index=False)\n",
        "\n",
        "# Confirming the save operation\n",
        "print(f\"Processed data saved as: {processed_file_path}\")\n"
      ]
    }
  ]
}